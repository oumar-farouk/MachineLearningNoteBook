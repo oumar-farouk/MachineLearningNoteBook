{
 "cells": [
  {
   "cell_type": "markdown",
   "metadata": {},
   "source": [
    "# Installation à faire "
   ]
  },
  {
   "cell_type": "markdown",
   "metadata": {},
   "source": [
    "***pip install -r requirement.txt***\n"
   ]
  },
  {
   "cell_type": "markdown",
   "metadata": {},
   "source": [
    "## Variables globales (à executer avant)"
   ]
  },
  {
   "cell_type": "code",
   "execution_count": null,
   "metadata": {},
   "outputs": [],
   "source": [
    "import pandas as pd\n",
    "import machine_learning as ml\n",
    "\n",
    "\n",
    "df = None # Dataframe contenant les données\n",
    "X = None # données relatives aux attributs\n",
    "y = None # données relatives à la variable cible (classe)\n",
    "X_train = None # données d'apprentissage (attributs)\n",
    "y_train = None #données d'apprentissage (cible)\n",
    "X_test = None # données de test (attributs)\n",
    "y_test = None # données de test (cible)\n",
    "active_feature_index = []\n",
    "cible_index = -1\n",
    "\n",
    "model = None #Par abus de langage, il s'agit de l'algorithme de ML qui servira pour la création d'un modèle (cas supervisé)\n",
    "\n",
    "cluster = None #\n"
   ]
  },
  {
   "cell_type": "markdown",
   "metadata": {},
   "source": [
    "# I - Chargement et manipulation des données\n"
   ]
  },
  {
   "cell_type": "markdown",
   "metadata": {},
   "source": [
    "## I-1 Chargement des données"
   ]
  },
  {
   "cell_type": "code",
   "execution_count": 12,
   "metadata": {},
   "outputs": [
    {
     "name": "stdout",
     "output_type": "stream",
     "text": [
      "Spécifier le fichier des données: noisiness.txt\n",
      "separateur de fichier:\n",
      "0(tabulation)\n",
      "1:(virgule)\n",
      "2:(point virgule)\n",
      "0\n",
      "=======================\n",
      "les données ont été correctement chargées.\n",
      "Nombre d'attributs : 11\n",
      "Nombre d'individus : 533\n",
      " \n"
     ]
    }
   ],
   "source": [
    "# Chargement de données\n",
    "filename=input(\"Spécifier le fichier des données: \")\n",
    "try:\n",
    "    df=ml.charger_donnees(filename)\n",
    "    nbraw, nbcol = df.shape\n",
    "    print(\"=======================\")\n",
    "    print(\"les données ont été correctement chargées.\\nNombre d'attributs : {}\\nNombre d'individus : {}\\n \".format(nbcol,nbraw))\n",
    "except Exception as ex:\n",
    "    print(ex.args[0])"
   ]
  },
  {
   "cell_type": "code",
   "execution_count": 4,
   "metadata": {},
   "outputs": [
    {
     "data": {
      "text/html": [
       "<div>\n",
       "<style scoped>\n",
       "    .dataframe tbody tr th:only-of-type {\n",
       "        vertical-align: middle;\n",
       "    }\n",
       "\n",
       "    .dataframe tbody tr th {\n",
       "        vertical-align: top;\n",
       "    }\n",
       "\n",
       "    .dataframe thead th {\n",
       "        text-align: right;\n",
       "    }\n",
       "</style>\n",
       "<table border=\"1\" class=\"dataframe\">\n",
       "  <thead>\n",
       "    <tr style=\"text-align: right;\">\n",
       "      <th></th>\n",
       "      <th>ERB</th>\n",
       "      <th>Fc</th>\n",
       "      <th>rl</th>\n",
       "      <th>rA</th>\n",
       "      <th>rI</th>\n",
       "      <th>Plin</th>\n",
       "      <th>Ln</th>\n",
       "      <th>NOS</th>\n",
       "      <th>LTL</th>\n",
       "      <th>SPL</th>\n",
       "      <th>MOS_LQO</th>\n",
       "    </tr>\n",
       "  </thead>\n",
       "  <tbody>\n",
       "    <tr>\n",
       "      <th>0</th>\n",
       "      <td>15.9149</td>\n",
       "      <td>11.9396</td>\n",
       "      <td>0.0</td>\n",
       "      <td>0.0</td>\n",
       "      <td>0</td>\n",
       "      <td>45.0571</td>\n",
       "      <td>46.9026</td>\n",
       "      <td>12.1772</td>\n",
       "      <td>55.221</td>\n",
       "      <td>84.09</td>\n",
       "      <td>1.6783</td>\n",
       "    </tr>\n",
       "    <tr>\n",
       "      <th>1</th>\n",
       "      <td>19.7595</td>\n",
       "      <td>11.9719</td>\n",
       "      <td>0.0</td>\n",
       "      <td>0.0</td>\n",
       "      <td>0</td>\n",
       "      <td>30.8186</td>\n",
       "      <td>34.0816</td>\n",
       "      <td>10.3748</td>\n",
       "      <td>57.795</td>\n",
       "      <td>81.05</td>\n",
       "      <td>2.4077</td>\n",
       "    </tr>\n",
       "    <tr>\n",
       "      <th>2</th>\n",
       "      <td>21.7021</td>\n",
       "      <td>12.0316</td>\n",
       "      <td>0.0</td>\n",
       "      <td>0.0</td>\n",
       "      <td>0</td>\n",
       "      <td>18.0230</td>\n",
       "      <td>19.5889</td>\n",
       "      <td>7.3934</td>\n",
       "      <td>55.180</td>\n",
       "      <td>79.12</td>\n",
       "      <td>2.5909</td>\n",
       "    </tr>\n",
       "    <tr>\n",
       "      <th>3</th>\n",
       "      <td>22.2886</td>\n",
       "      <td>12.0397</td>\n",
       "      <td>0.0</td>\n",
       "      <td>0.0</td>\n",
       "      <td>0</td>\n",
       "      <td>8.6963</td>\n",
       "      <td>10.3757</td>\n",
       "      <td>4.2841</td>\n",
       "      <td>53.470</td>\n",
       "      <td>78.77</td>\n",
       "      <td>3.3238</td>\n",
       "    </tr>\n",
       "    <tr>\n",
       "      <th>4</th>\n",
       "      <td>22.2790</td>\n",
       "      <td>12.0420</td>\n",
       "      <td>0.0</td>\n",
       "      <td>0.0</td>\n",
       "      <td>0</td>\n",
       "      <td>4.6881</td>\n",
       "      <td>4.8154</td>\n",
       "      <td>2.2725</td>\n",
       "      <td>53.032</td>\n",
       "      <td>78.75</td>\n",
       "      <td>3.5694</td>\n",
       "    </tr>\n",
       "  </tbody>\n",
       "</table>\n",
       "</div>"
      ],
      "text/plain": [
       "       ERB       Fc   rl   rA   rI     Plin       Ln      NOS     LTL    SPL  \\\n",
       "0  15.9149  11.9396  0.0  0.0    0  45.0571  46.9026  12.1772  55.221  84.09   \n",
       "1  19.7595  11.9719  0.0  0.0    0  30.8186  34.0816  10.3748  57.795  81.05   \n",
       "2  21.7021  12.0316  0.0  0.0    0  18.0230  19.5889   7.3934  55.180  79.12   \n",
       "3  22.2886  12.0397  0.0  0.0    0   8.6963  10.3757   4.2841  53.470  78.77   \n",
       "4  22.2790  12.0420  0.0  0.0    0   4.6881   4.8154   2.2725  53.032  78.75   \n",
       "\n",
       "    MOS_LQO  \n",
       "0    1.6783  \n",
       "1    2.4077  \n",
       "2    2.5909  \n",
       "3    3.3238  \n",
       "4    3.5694  "
      ]
     },
     "execution_count": 4,
     "metadata": {},
     "output_type": "execute_result"
    }
   ],
   "source": [
    "df.head()"
   ]
  },
  {
   "cell_type": "markdown",
   "metadata": {},
   "source": [
    "## I-2 Extraction des attributs et variable cible"
   ]
  },
  {
   "cell_type": "code",
   "execution_count": 13,
   "metadata": {},
   "outputs": [
    {
     "name": "stdout",
     "output_type": "stream",
     "text": [
      "Information sur les attributs\n",
      " ERB : 0\n",
      " Fc : 1\n",
      " rl : 2\n",
      " rA : 3\n",
      " rI : 4\n",
      " Plin : 5\n",
      " Ln : 6\n",
      " NOS : 7\n",
      " LTL : 8\n",
      " SPL : 9\n",
      " MOS_LQO : 10\n",
      "Choisir l'index de la variable cible : \n",
      "NB : Dans le cas d'un apprentissage non supervisé, laisser ce champ vide\n",
      "10\n",
      "Sélectionner les indices des attributs (séparer par une virgule ex. 1,4,5,8)\n",
      "Pour sélectionner plusieurs, utiliser ':' (ex. 0:7): 0:9\n",
      "=======================\n",
      "Attributs :  [' ERB', ' Fc', ' rl', ' rA', ' rI', ' Plin', ' Ln', ' NOS', ' LTL', ' SPL']\n",
      "Variable cible :   MOS_LQO\n",
      "Repartition des individus par classe\n",
      "2.2530    15\n",
      "2.3937     6\n",
      "1.8668     6\n",
      "2.5286     5\n",
      "1.7664     5\n",
      "          ..\n",
      "3.4039     1\n",
      "3.1017     1\n",
      "2.5375     1\n",
      "3.5744     1\n",
      "2.5304     1\n",
      "Name:  MOS_LQO, Length: 431, dtype: int64\n"
     ]
    }
   ],
   "source": [
    "try:\n",
    "    if df is None:\n",
    "        raise Exception(\"Aucune données n'a été chargée! Merci de charger les données dans la première cellule\")\n",
    "    cible_index,active_feature_index, X, y = ml.extract(df)\n",
    "    print(\"=======================\")\n",
    "    print(\"Attributs : \", list(df.columns[active_feature_index]))\n",
    "    if cible_index >= 0:\n",
    "        print(\"Variable cible : \", df.columns[cible_index])\n",
    "        print(\"Repartition des individus par classe\")\n",
    "        ml.display_classes_stats(df, cible_index )\n",
    "    else:\n",
    "        print(\"Pas de variable cible \")\n",
    "        \n",
    "except Exception as ex:\n",
    "    print(ex.args[0])"
   ]
  },
  {
   "cell_type": "markdown",
   "metadata": {},
   "source": [
    "## I-3 Normalisation des données"
   ]
  },
  {
   "cell_type": "code",
   "execution_count": null,
   "metadata": {},
   "outputs": [],
   "source": [
    "try:\n",
    "    if X is None:\n",
    "        raise Exception(\"Merci d'extraire les données relatives aux attributs (cf. section I.2)\")\n",
    "    \n",
    "    try :\n",
    "        norm_type = int(input(\"Choisir l'algorithme de normalisation :\\n0:standard\\n1:MinMax\\n-1 : pas de normalisation\\n (par défaut: standard)\\n\"))\n",
    "    except :\n",
    "        norm_type = 0\n",
    "    \n",
    "    print(\"=========================\")\n",
    "    if norm_type >= 0:\n",
    "        X = ml.normaliser(X, norm_type)\n",
    "        print(\"la normalisation a été correctement effectuée !!\")\n",
    "    else :\n",
    "        print(\"Pas de normalisation des données !!\")\n",
    "    \n",
    "    \n",
    "except Exception as ex:\n",
    "    print(ex.args[0])    "
   ]
  },
  {
   "cell_type": "markdown",
   "metadata": {},
   "source": [
    "## I-4 Séparation des données en test et apprentissage (Uniquement pour l'apprentissage supervisé)"
   ]
  },
  {
   "cell_type": "code",
   "execution_count": 14,
   "metadata": {},
   "outputs": [
    {
     "name": "stdout",
     "output_type": "stream",
     "text": [
      "Spécifier la proportion de données pour l'apprentissage (entre 0 et 1) : 0.8\n",
      "==========================\n",
      "Proportion des données d'apprentissage :  426\n",
      "Proportion des données de test :  107\n"
     ]
    }
   ],
   "source": [
    "try:  \n",
    "    if X is None:\n",
    "        raise Exception(\"Pas de données disponible !!!\")\n",
    "    if cible_index == -1:\n",
    "        raise Exception(\"Aucune classe n'a été définie. Vous êtes peut être dans le cas d'un apprentissage non supervisé\")\n",
    "    train_size = 0\n",
    "    while not 0 < train_size <= 1 :\n",
    "        train_size = float(input(\"Spécifier la proportion de données pour l'apprentissage (entre 0 et 1) : \"))\n",
    "\n",
    "  \n",
    "    X_train, X_test, Y_train, Y_test = ml.split_train_test_data(X, y, train_size=train_size)\n",
    "    print(\"==========================\")\n",
    "    print(\"Proportion des données d'apprentissage : \", len(X_train))\n",
    "    print(\"Proportion des données de test : \", len(X_test))\n",
    "except Exception as ex:\n",
    "    print(ex.args[0])\n"
   ]
  },
  {
   "cell_type": "markdown",
   "metadata": {},
   "source": [
    "# II Construction du modèle (Apprentissage supervisé)"
   ]
  },
  {
   "cell_type": "markdown",
   "metadata": {},
   "source": [
    "## II-1 Choix du modèle et type de prédiction(Classification ou régression)"
   ]
  },
  {
   "cell_type": "code",
   "execution_count": 19,
   "metadata": {},
   "outputs": [
    {
     "name": "stdout",
     "output_type": "stream",
     "text": [
      "Choisir l'algorithme de machine learning :\n",
      "0 : CART\n",
      "1 : Foret aleatoire\n",
      "2 : Bagging\n",
      "3 : Boosting)\n",
      "4 : SVM\n",
      "0\n",
      "Sélection le type de prédiction :\n",
      "0 : classification\n",
      "1 : régression\n",
      "NB : laisser ce champ vide si non définie (par defaut = Classification)\n",
      " 1\n",
      "Selectionner le critére:\n",
      "0: mse (EQM)\n",
      "1: mae (Erreur Moyenne Absolue) (default = mse)\n",
      "0\n",
      "Specifier la profondeur maximale de l'arbre\n",
      "NB : laisser ce champ vide si non définie\n",
      "5\n",
      "=========================\n",
      "Méthode de ML :  Cart - Regressor\n",
      "Fonction de mesure d'impureté :  mse\n",
      "Profondeur maximale : 5\n"
     ]
    }
   ],
   "source": [
    "try:\n",
    "    if cible_index == -1:\n",
    "        raise Exception(\"Aucune classe n'a été définie. Vous êtes peut être dans le cas d'un apprentissage non supervisé\")\n",
    "        \n",
    "    methode_ml = int(input(\"Choisir l'algorithme de machine learning :\\n0 : CART\\n1 : Foret aleatoire\\n2 : Bagging\\n3 : Boosting)\\n4 : SVM\\n\"))\n",
    "    type_prediction = input(\"Sélection le type de prédiction :\\n0 : classification\\n1 : régression\\nNB : laisser ce champ vide si non définie (par defaut = Classification)\\n \")\n",
    "\n",
    "    try:\n",
    "        type_prediction = int(type_prediction)\n",
    "    except:\n",
    "        type_prediction = 0\n",
    "\n",
    "    model = ml.build_model(methode_ml, type_prediction)\n",
    "\n",
    "    print(\"=========================\")\n",
    "    model.afficher_parametres()\n",
    "\n",
    "        #model.apprendre(X_train, Y_train)\n",
    "except Exception as ex:\n",
    "    print(ex.args[0])\n"
   ]
  },
  {
   "cell_type": "markdown",
   "metadata": {},
   "source": [
    "## II-2 Construction du modèle et performances"
   ]
  },
  {
   "cell_type": "code",
   "execution_count": 26,
   "metadata": {},
   "outputs": [
    {
     "name": "stdout",
     "output_type": "stream",
     "text": [
      "Apprentissage en cours ...\n",
      "Evaluation de performance ...\n",
      "coefficient de détermination(R^2) :  0.8835704248525872\n",
      "erreur quadratique moyenne (EQM) :  0.05230711193246297\n"
     ]
    }
   ],
   "source": [
    "try :\n",
    "    if model is None :\n",
    "        raise Exception(\"Aucun algorithme ML n'a été sélectionné !!!\")\n",
    "    if cible_index == -1:\n",
    "            raise Exception(\"Aucune classe n'a été définie. Vous êtes peut être dans le cas d'un apprentissage non supervisé\")\n",
    "    try:\n",
    "        print(\"Apprentissage en cours ...\")\n",
    "        model.apprendre(X_train, Y_train, df.columns[active_feature_index])\n",
    "    except Exception as ex:\n",
    "        print(ex.args[0])\n",
    "    \n",
    "    print(\"Evaluation de performance ...\")\n",
    "    model.afficher_performance(X_test, Y_test)\n",
    "except Exception as ex:\n",
    "    print(ex.args[0])"
   ]
  },
  {
   "cell_type": "markdown",
   "metadata": {},
   "source": [
    "### Options avancées 1 : Affichage des paramètres du modèle"
   ]
  },
  {
   "cell_type": "code",
   "execution_count": 31,
   "metadata": {},
   "outputs": [
    {
     "name": "stdout",
     "output_type": "stream",
     "text": [
      "Quelle option souhaiteriez-vous afficher ?\n",
      "0 : Afficher le modèle\n",
      "1 : Afficher la règle de décision\n",
      "2 : Afficher l'importance des variables\n",
      " (defaut = Afficher le modèle)\n",
      "\n",
      "Saisir la hauteur du graphe (par defaut = 10)\n",
      "\n",
      "Saisir la largeur du graphe (par defaut = 10)\n",
      "5\n",
      "patienter ... (pour afficher le graphe, il est préférable de ne pas continuer (option = Non)\n",
      "Voulez vous continuer ?\n",
      "0 : Non\n",
      "1 : Oui (defaut = Oui)0\n"
     ]
    },
    {
     "data": {
      "image/png": "[encoded data removed]",
      "text/plain": [
       "<Figure size 720x360 with 1 Axes>"
      ]
     },
     "metadata": {
      "needs_background": "light"
     },
     "output_type": "display_data"
    }
   ],
   "source": [
    "try:\n",
    "    if model is None:\n",
    "        raise Exception(\"Aucun modèle n'a été crée !!!\")\n",
    "    model.afficher_options_avancee_modele()\n",
    "except Exception as ex:\n",
    "    print(ex.args[0])\n",
    "    "
   ]
  },
  {
   "cell_type": "markdown",
   "metadata": {},
   "source": [
    "### Options avancées 2 : Sélection de variables (Backward and Forward selection)"
   ]
  },
  {
   "cell_type": "markdown",
   "metadata": {},
   "source": [
    "Comme nous l'avons vu dans le cours, les méthodes de sélection de variables permettent de mettre en exergue l'importance des attributs ayant contribués à la construction du modèle. La plupart des algorithmes d'apprentissage supervisé intègre ces algorithmes. Toutefois il existe 2 méthodes externes : Backward selection et Forward selection\n",
    "\n",
    "**Forward Selection** : c'est une méthode qui commence par un modèle vide et ajoute les variables (attributs) une par une. À chaque étape, on ajoute la seule variable qui donne la meilleure amélioration à votre modèle\n",
    "\n",
    "**Backward Selection** : Elle est l'opposé de la précedente. On commence avec un modèle qui inclut toutes les variables et on élimine les variables superflues une par une.\n"
   ]
  },
  {
   "cell_type": "code",
   "execution_count": null,
   "metadata": {},
   "outputs": [],
   "source": [
    "try:\n",
    "    if model is None:\n",
    "        raise Exception(\"Aucun modèle n'a été crée !!!\")\n",
    "    if X is None or y is None:\n",
    "        raise Exception(\"Aucune donnée n'a été chargée\")\n",
    "    \n",
    "    results = ml.feature_selection(model, X_train, Y_train, df.columns[active_feature_index])\n",
    "    print(results)\n",
    "except Exception as ex:\n",
    "    print(ex.args[0])"
   ]
  },
  {
   "cell_type": "code",
   "execution_count": null,
   "metadata": {},
   "outputs": [],
   "source": [
    "results[[\"feature_names\", \"avg_score\"]]"
   ]
  },
  {
   "cell_type": "markdown",
   "metadata": {},
   "source": [
    "## II-3 Validation croisée"
   ]
  },
  {
   "cell_type": "code",
   "execution_count": 21,
   "metadata": {},
   "outputs": [
    {
     "name": "stdout",
     "output_type": "stream",
     "text": [
      "Spécifier la valeur de CV : (defaut = 5)\n",
      "\n",
      "=========================\n",
      "Moyenne des scores : 0.871\n",
      "variance des scores : 0.00147\n",
      "Score par étape de validation : [0.8906828  0.81915982 0.90095241 0.91281161 0.8306895 ]\n"
     ]
    }
   ],
   "source": [
    "try:\n",
    "    if model is None:\n",
    "        raise Exception(\"Aucun modèle n'a été crée !!!\")\n",
    "    if X is None or y is None:\n",
    "        raise Exception(\"Aucune donnée n'a été chargée\")\n",
    "    \n",
    "    cv = input(\"Spécifier la valeur de CV : (defaut = 5)\\n\")\n",
    "    try:\n",
    "        cv = int(cv)\n",
    "    except :\n",
    "        cv = 5\n",
    "    scores,mean_scores,var_scores = model.validation_croise(X, y, cv)\n",
    "    \n",
    "    print(\"=========================\")\n",
    "    print(\"Moyenne des scores : %0.3f\" %mean_scores)\n",
    "    print(\"variance des scores : %0.5f\" %var_scores)\n",
    "    print(\"Score par étape de validation :\", scores)\n",
    "    \n",
    "except Exception as ex:\n",
    "    print(ex.args[0])"
   ]
  },
  {
   "cell_type": "markdown",
   "metadata": {},
   "source": [
    "## II-4 Recherche de paramètres optimum de modèle"
   ]
  },
  {
   "cell_type": "code",
   "execution_count": 18,
   "metadata": {},
   "outputs": [
    {
     "name": "stdout",
     "output_type": "stream",
     "text": [
      "spécifier les valeurs de max_depth : (séparer les valeurs par une virgule ex. 1,7,4,5,8)\n",
      "Pour sélectionner plusieurs, utiliser 'debut:fin:pas' (ex. 0:7:0.1)1:5:1\n",
      "====Paramètres à optimiser=======================\n",
      "algorithme ML :  Cart - Regressor\n",
      "{'criterion': ['mse', 'mae'], 'max_depth': [1, 2, 3, 4, 5]}\n"
     ]
    },
    {
     "name": "stderr",
     "output_type": "stream",
     "text": [
      "C:\\ProgramData\\Anaconda3\\lib\\site-packages\\sklearn\\model_selection\\_split.py:1978: FutureWarning: The default value of cv will change from 3 to 5 in version 0.22. Specify it explicitly to silence this warning.\n",
      "  warnings.warn(CV_WARNING, FutureWarning)\n"
     ]
    },
    {
     "name": "stdout",
     "output_type": "stream",
     "text": [
      "=========================\n",
      "Résultats des paramètres optimum pour l'algorithme ML  Cart - Regressor\n",
      "Les meilleurs paramètres sont {'criterion': 'mse', 'max_depth': 5}\n",
      "Score : 0.86\n"
     ]
    }
   ],
   "source": [
    "try:\n",
    "    if model is None:\n",
    "        raise Exception(\"Aucun modèle n'a été crée !!!\")\n",
    "    if X is None or y is None:\n",
    "        raise Exception(\"Aucune donnée n'a été chargée\")\n",
    "    \n",
    "    best_params, best_score = model.recherche_optimum()\n",
    "    \n",
    "    print(\"=========================\")\n",
    "    print(\"Résultats des paramètres optimum pour l'algorithme ML \", model.nom)\n",
    "    print(\"Les meilleurs paramètres sont %s\" % best_params)\n",
    "    print(\"Score : %0.2f\"  %best_score)\n",
    "    \n",
    "except Exception as ex:\n",
    "    print(ex.args[0])"
   ]
  },
  {
   "cell_type": "code",
   "execution_count": null,
   "metadata": {},
   "outputs": [],
   "source": [
    "Résultats des paramètres optimum pour l'algorithme ML  Cart - Regressor\n",
    "Les meilleurs paramètres sont {'criterion': 'mse', 'max_depth': 5}\n",
    "Score : 0.87"
   ]
  },
  {
   "cell_type": "markdown",
   "metadata": {},
   "source": [
    "## II-5 Export du modèle"
   ]
  },
  {
   "cell_type": "code",
   "execution_count": null,
   "metadata": {},
   "outputs": [],
   "source": [
    "try:\n",
    "    if model is None:\n",
    "        raise Exception(\"Aucun modèle n'a été crée !!!\")\n",
    "    if X is None or y is None:\n",
    "        raise Exception(\"Aucune donnée n'a été chargée\")\n",
    "        \n",
    "    model_filename = input(\"Spécifier le fichier des données: \")\n",
    "    model.exporter_modele(model_filename)\n",
    "    print(\"Le modèle a été correctement exporté\")\n",
    "except Exception as ex:\n",
    "    print(ex.args[0])"
   ]
  },
  {
   "cell_type": "markdown",
   "metadata": {},
   "source": [
    "# III. Clustering (Kmeans)"
   ]
  },
  {
   "cell_type": "markdown",
   "metadata": {},
   "source": [
    "**Kmeans** est une méthode d'apprentissage non supervisé permettant de regrouper en **K clusters** distinct des observations d’un jeu de données. Le critère permettant de repartir les individus par groupe est **l'inertie intra classe (ou groupe)**, chaque groupe étant mené par un barycentre. Lors de la construction des clusters, le barycentre est constamment mis à jour d'où l'appelation de **méthode des centres (barycentres) mobiles**\n",
    "\n",
    "Deux critères majeures :\n",
    "- Le choix des barycentres de départ\n",
    "- Le choix du nombre optimal de cluster\n",
    "\n",
    "\n",
    "**1. Choix des barycentre de départ**\n",
    " - On peut choisir de sélectionner aléatoirement des individus comme centroid (**random**)\n",
    " - la méthode **k-means++** utilisant une approche plus efficace de sélection des centroids : choisir les centres l’un après l’autre, suivant une loi non uniforme qui évolue après le choix de chaque centre et qui privilégie les candidats éloignés des centres déjà sélectionnés\n",
    "\n",
    "\n",
    "**2. Choix du nombre optimal de cluster**\n",
    "\n",
    "La méthode du « coude » . La valeur retenue pour k est celle qui marque le début d’un pallier : pour des valeurs inférieures la qualité de regroupement est nettement moins bonne, alors que pour des valeurs supérieures la qualité ne s’améliore pas sensiblement. Noter toutefois que si la plage de valeurs de k explorées est suffisamment large il est fréquent d’y trouver plusieurs « coudes ».\n",
    " "
   ]
  },
  {
   "cell_type": "markdown",
   "metadata": {},
   "source": [
    "## II.1. Choix du nombre optimal de classes (K)"
   ]
  },
  {
   "cell_type": "code",
   "execution_count": null,
   "metadata": {},
   "outputs": [],
   "source": [
    "from sklearn.cluster import KMeans\n",
    "import matplotlib.pyplot as plt\n",
    "\n",
    "try:\n",
    "    \n",
    "    try:\n",
    "        max_clusters = int(input(\"spécifier les valeurs de K : (séparer les valeurs par une virgule ex. 1,7,4,5,8)\\nPour \"\n",
    "                \"sélectionner plusieurs, utiliser 'debut:fin:pas' (ex. 1:20:1)\"))\n",
    "    except:\n",
    "        max_clusters = 10\n",
    "    wcss = []\n",
    "    for i in range(1, max_clusters):\n",
    "        kmeans = KMeans(n_clusters=i, init='k-means++', random_state=0)\n",
    "        kmeans.fit(X)\n",
    "        wcss.append(kmeans.inertia_)\n",
    "    \n",
    "    plt.title(\"Nombre optimal de cluster\")\n",
    "    plt.xlabel(\"Nombre de cluster\")\n",
    "    plt.plot(list(range(1, max_clusters)),wcss)\n",
    "    plt.show()\n",
    "            \n",
    "except:\n",
    "    print(ex.args[0])                            \n",
    "    \n"
   ]
  },
  {
   "cell_type": "markdown",
   "metadata": {},
   "source": [
    "## III.2. Construction des clusters"
   ]
  },
  {
   "cell_type": "code",
   "execution_count": null,
   "metadata": {},
   "outputs": [],
   "source": [
    "labels = []\n",
    "\n",
    "try:\n",
    "    if X is None :\n",
    "        raise Exception(\"Aucune donnée n'a été chargée. Merci de charger les données  (cf. I)\")\n",
    "    \n",
    "    try:\n",
    "        n_clusters = int(input(\"Spécifier le nombre de cluster (K) que vous souhaiteriez avoir \\n(defaut=4)\\n\"))\n",
    "    except:\n",
    "        n_clusters = 4\n",
    "\n",
    "    try:\n",
    "        init = int(input(\"Sélectionner l'approche d'initialisation des centroids : \\n0 : k-means++\\n1 : random\\n (par défaut =k-means++)\\n\"))\n",
    "    except:\n",
    "        init = 0\n",
    "    init = \"random\" if init else \"k-means++\"\n",
    "    \n",
    "    kmeans = KMeans(n_clusters=n_clusters,  init=init, random_state=0)\n",
    "    kmeans.fit(X)\n",
    "    labels = kmeans.predict(X)\n",
    "    \n",
    "    \n",
    "except Exception as ex:\n",
    "    print(ex.args[0])\n",
    "    "
   ]
  }
 ],
 "metadata": {
  "kernelspec": {
   "display_name": "Python 3",
   "language": "python",
   "name": "python3"
  },
  "language_info": {
   "codemirror_mode": {
    "name": "ipython",
    "version": 3
   },
   "file_extension": ".py",
   "mimetype": "text/x-python",
   "name": "python",
   "nbconvert_exporter": "python",
   "pygments_lexer": "ipython3",
   "version": "3.8.8"
  }
 },
 "nbformat": 4,
 "nbformat_minor": 4
}
